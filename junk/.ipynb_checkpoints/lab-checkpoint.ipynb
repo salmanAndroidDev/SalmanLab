{
 "cells": [
  {
   "cell_type": "code",
   "execution_count": 2,
   "metadata": {},
   "outputs": [],
   "source": [
    "import time\n",
    "import numpy as np"
   ]
  },
  {
   "cell_type": "code",
   "execution_count": 5,
   "metadata": {},
   "outputs": [
    {
     "data": {
      "text/plain": [
       "(10, 50)"
      ]
     },
     "execution_count": 5,
     "metadata": {},
     "output_type": "execute_result"
    }
   ],
   "source": [
    "x = np.load('data.npy')\n",
    "x.shape"
   ]
  },
  {
   "cell_type": "code",
   "execution_count": 8,
   "metadata": {},
   "outputs": [
    {
     "name": "stdout",
     "output_type": "stream",
     "text": [
      "[['Salman' 'Vahab' 'Mohandes']\n",
      " ['Amer' 'Mahmadi' 'Naser']\n",
      " ['Abol' 'Moradi' 'eshagh']]\n"
     ]
    }
   ],
   "source": [
    "friends = np.load('friends.npy')\n",
    "print(friends)"
   ]
  },
  {
   "cell_type": "code",
   "execution_count": 9,
   "metadata": {},
   "outputs": [],
   "source": [
    "nums = np.ones((10,4), dtype='U5')"
   ]
  },
  {
   "cell_type": "code",
   "execution_count": 11,
   "metadata": {},
   "outputs": [
    {
     "data": {
      "text/plain": [
       "dtype('<U5')"
      ]
     },
     "execution_count": 11,
     "metadata": {},
     "output_type": "execute_result"
    }
   ],
   "source": [
    "nums.dtype"
   ]
  },
  {
   "cell_type": "code",
   "execution_count": 19,
   "metadata": {},
   "outputs": [
    {
     "data": {
      "text/plain": [
       "array([[23, 23, 23, 23],\n",
       "       [23, 23, 23, 23],\n",
       "       [23, 23, 23, 23],\n",
       "       [23, 23, 23, 23],\n",
       "       [23, 23, 23, 23]])"
      ]
     },
     "execution_count": 19,
     "metadata": {},
     "output_type": "execute_result"
    }
   ],
   "source": [
    "np.full((5,4), 23)"
   ]
  },
  {
   "cell_type": "code",
   "execution_count": 14,
   "metadata": {},
   "outputs": [],
   "source": [
    "outputs = np.full((3,10),.99)\n"
   ]
  },
  {
   "cell_type": "code",
   "execution_count": 28,
   "metadata": {},
   "outputs": [
    {
     "data": {
      "text/plain": [
       "array([[1., 0., 0.],\n",
       "       [0., 1., 0.],\n",
       "       [0., 0., 1.]])"
      ]
     },
     "execution_count": 28,
     "metadata": {},
     "output_type": "execute_result"
    }
   ],
   "source": [
    "np.eye(3)"
   ]
  },
  {
   "cell_type": "code",
   "execution_count": 33,
   "metadata": {},
   "outputs": [
    {
     "data": {
      "text/plain": [
       "array([[10,  0],\n",
       "       [ 0, 20]])"
      ]
     },
     "execution_count": 33,
     "metadata": {},
     "output_type": "execute_result"
    }
   ],
   "source": [
    "np.diag((10,20))"
   ]
  },
  {
   "cell_type": "code",
   "execution_count": 34,
   "metadata": {},
   "outputs": [
    {
     "data": {
      "text/plain": [
       "array([[ 10,   0,   0,   0,   0,   0,   0,   0,   0,   0],\n",
       "       [  0,  20,   0,   0,   0,   0,   0,   0,   0,   0],\n",
       "       [  0,   0,  30,   0,   0,   0,   0,   0,   0,   0],\n",
       "       [  0,   0,   0,  40,   0,   0,   0,   0,   0,   0],\n",
       "       [  0,   0,   0,   0,  50,   0,   0,   0,   0,   0],\n",
       "       [  0,   0,   0,   0,   0,  60,   0,   0,   0,   0],\n",
       "       [  0,   0,   0,   0,   0,   0,  70,   0,   0,   0],\n",
       "       [  0,   0,   0,   0,   0,   0,   0,  80,   0,   0],\n",
       "       [  0,   0,   0,   0,   0,   0,   0,   0,  90,   0],\n",
       "       [  0,   0,   0,   0,   0,   0,   0,   0,   0, 100]])"
      ]
     },
     "execution_count": 34,
     "metadata": {},
     "output_type": "execute_result"
    }
   ],
   "source": [
    "np.diag((10,20,30,40,50,60,70,80,90,100))"
   ]
  },
  {
   "cell_type": "code",
   "execution_count": 36,
   "metadata": {},
   "outputs": [
    {
     "data": {
      "text/plain": [
       "array([10, 11, 12, 13, 14, 15, 16, 17, 18, 19, 20, 21, 22, 23, 24, 25, 26,\n",
       "       27, 28, 29, 30])"
      ]
     },
     "execution_count": 36,
     "metadata": {},
     "output_type": "execute_result"
    }
   ],
   "source": [
    "np.arange(10,31,)"
   ]
  },
  {
   "cell_type": "code",
   "execution_count": 52,
   "metadata": {},
   "outputs": [
    {
     "data": {
      "text/plain": [
       "array([6, 7, 8, 9])"
      ]
     },
     "execution_count": 52,
     "metadata": {},
     "output_type": "execute_result"
    }
   ],
   "source": [
    "np.arange(6,10,1)"
   ]
  },
  {
   "cell_type": "code",
   "execution_count": 66,
   "metadata": {},
   "outputs": [
    {
     "data": {
      "text/plain": [
       "array([2. , 3.8, 5.6, 7.4, 9.2])"
      ]
     },
     "execution_count": 66,
     "metadata": {},
     "output_type": "execute_result"
    }
   ],
   "source": [
    "np.linspace(2,11,5,endpoint=False)"
   ]
  },
  {
   "cell_type": "code",
   "execution_count": 26,
   "metadata": {},
   "outputs": [
    {
     "data": {
      "text/plain": [
       "array([ 1. , 10.9, 20.8, 30.7, 40.6, 50.5, 60.4, 70.3, 80.2, 90.1])"
      ]
     },
     "execution_count": 26,
     "metadata": {},
     "output_type": "execute_result"
    }
   ],
   "source": [
    "np.linspace(1,100,10, endpoint= False)"
   ]
  },
  {
   "cell_type": "code",
   "execution_count": 29,
   "metadata": {},
   "outputs": [],
   "source": [
    "x = np.linspace(10,100,10) "
   ]
  },
  {
   "cell_type": "code",
   "execution_count": 77,
   "metadata": {},
   "outputs": [],
   "source": [
    "test = np.arange(50,100)\n"
   ]
  },
  {
   "cell_type": "code",
   "execution_count": 78,
   "metadata": {},
   "outputs": [
    {
     "data": {
      "text/plain": [
       "array([[ 1,  2,  3,  4,  5],\n",
       "       [ 6,  7,  8,  9, 10]])"
      ]
     },
     "execution_count": 78,
     "metadata": {},
     "output_type": "execute_result"
    }
   ],
   "source": [
    "np.reshape([1,2,3,4,5,6,7,8,9,10], (2,5))"
   ]
  },
  {
   "cell_type": "code",
   "execution_count": 87,
   "metadata": {},
   "outputs": [
    {
     "data": {
      "text/plain": [
       "array([[ 25.],\n",
       "       [ 50.],\n",
       "       [ 75.],\n",
       "       [100.]])"
      ]
     },
     "execution_count": 87,
     "metadata": {},
     "output_type": "execute_result"
    }
   ],
   "source": [
    "np.linspace(25,100,4).reshape(4,1)"
   ]
  },
  {
   "cell_type": "code",
   "execution_count": 13,
   "metadata": {},
   "outputs": [
    {
     "data": {
      "text/plain": [
       "array([[10.        , 11.66666667, 13.33333333],\n",
       "       [15.        , 16.66666667, 18.33333333]])"
      ]
     },
     "execution_count": 13,
     "metadata": {},
     "output_type": "execute_result"
    }
   ],
   "source": [
    "np.linspace(10,20,6, endpoint= False).reshape((2,3))"
   ]
  },
  {
   "cell_type": "code",
   "execution_count": 88,
   "metadata": {},
   "outputs": [
    {
     "data": {
      "text/plain": [
       "array([[0.17845954, 0.1780049 , 0.77994063, 0.474467  , 0.6008838 ],\n",
       "       [0.88619293, 0.02504863, 0.6404251 , 0.95874486, 0.72545543],\n",
       "       [0.13785049, 0.41439556, 0.49917551, 0.02176611, 0.56697303],\n",
       "       [0.13024347, 0.70366918, 0.69696147, 0.35015066, 0.20285803],\n",
       "       [0.73171838, 0.78910806, 0.8660286 , 0.70484792, 0.35027815]])"
      ]
     },
     "execution_count": 88,
     "metadata": {},
     "output_type": "execute_result"
    }
   ],
   "source": [
    "np.random.random((5,5))"
   ]
  },
  {
   "cell_type": "code",
   "execution_count": 110,
   "metadata": {},
   "outputs": [
    {
     "data": {
      "text/plain": [
       "array([[ 8.12045394,  6.60428463],\n",
       "       [14.94287461, 12.42932765],\n",
       "       [13.61917444,  9.28280683],\n",
       "       [ 7.68502721, 10.15785595]])"
      ]
     },
     "execution_count": 110,
     "metadata": {},
     "output_type": "execute_result"
    }
   ],
   "source": [
    "np.random.normal(10,2,(4,2))"
   ]
  },
  {
   "cell_type": "code",
   "execution_count": 117,
   "metadata": {},
   "outputs": [
    {
     "data": {
      "text/plain": [
       "array([1, 0, 0, 1, 3])"
      ]
     },
     "execution_count": 117,
     "metadata": {},
     "output_type": "execute_result"
    }
   ],
   "source": [
    "sum(np.random.randint(10,21,(10,5),) == 20)"
   ]
  },
  {
   "cell_type": "code",
   "execution_count": 56,
   "metadata": {},
   "outputs": [
    {
     "name": "stdout",
     "output_type": "stream",
     "text": [
      "[[ 6.40350001  4.75971775  3.55111807  1.31070981]\n",
      " [ 1.56829403  5.80979093  3.30901608  2.44818783]\n",
      " [ 4.23702036  4.28706426  7.5251696   7.07340596]\n",
      " [ 5.12843502 10.20413091 10.66615277  4.7125376 ]\n",
      " [ 9.4062145   9.76233474  6.98158378 -1.0299999 ]\n",
      " [10.1043605   6.01227834  8.43911126  4.86129605]\n",
      " [ 9.44496975  1.5318293   6.34865572  1.21623645]\n",
      " [ 6.62409236  6.58062566  5.41677915  5.3192224 ]\n",
      " [ 6.31612773  6.19687666  5.51277541  3.01871335]\n",
      " [ 8.27774858  5.04823509  6.01203556  4.73526324]]\n"
     ]
    }
   ],
   "source": [
    "x = np.random.normal(5,2.5, (10,4))\n",
    "print(x)"
   ]
  },
  {
   "cell_type": "code",
   "execution_count": 118,
   "metadata": {},
   "outputs": [],
   "source": [
    "people = np.array(['one', 'two', 'three', 'one', 'two','one', 'two', 'three', 'one', 'two'])"
   ]
  },
  {
   "cell_type": "code",
   "execution_count": 119,
   "metadata": {},
   "outputs": [
    {
     "data": {
      "text/plain": [
       "2"
      ]
     },
     "execution_count": 119,
     "metadata": {},
     "output_type": "execute_result"
    }
   ],
   "source": [
    "(people == 'three').sum()"
   ]
  },
  {
   "cell_type": "code",
   "execution_count": 148,
   "metadata": {},
   "outputs": [
    {
     "data": {
      "text/plain": [
       "5"
      ]
     },
     "execution_count": 148,
     "metadata": {},
     "output_type": "execute_result"
    }
   ],
   "source": [
    "(np.array([1,2,3,1,6,3,1,1,3,6,8,9,1,10]) == 1).sum()"
   ]
  },
  {
   "cell_type": "code",
   "execution_count": 18,
   "metadata": {},
   "outputs": [
    {
     "name": "stdout",
     "output_type": "stream",
     "text": [
      "\n",
      "X = \n",
      " [[-0.10902964  0.08787859  0.15825867 ... -0.09095689 -0.07739123\n",
      "   0.01468437]\n",
      " [ 0.14096138 -0.18739551  0.01103643 ...  0.01092925  0.00858952\n",
      "   0.00607117]\n",
      " [-0.01873488 -0.10830546  0.07571227 ...  0.17526519  0.25028892\n",
      "   0.12280241]\n",
      " ...\n",
      " [ 0.14299632 -0.00331506 -0.12611158 ...  0.04331982  0.19002399\n",
      "   0.03357859]\n",
      " [-0.05919081  0.07548518 -0.03854785 ...  0.01089445  0.06930284\n",
      "  -0.11065365]\n",
      " [ 0.06195731 -0.07062622  0.13775018 ... -0.03217177 -0.03001669\n",
      "   0.04692487]]\n",
      "\n",
      "X has dimensions: (1000, 1000)\n",
      "X is an object of type: <class 'numpy.ndarray'>\n",
      "The elements in X are of type: float64\n",
      "The elements in X have a mean of: 0.00011478295085056326\n",
      "The maximum value in X is: 0.5520318005777393\n",
      "The minimum value in X is: -0.4971462104283895\n",
      "X has 499330 negative numbers\n",
      "X has 500670 positive numbers\n"
     ]
    }
   ],
   "source": [
    "# We create a 1000 x 1000 ndarray of random floats drawn from normal (Gaussian) distribution\n",
    "# with a mean of zero and a standard deviation of 0.1.\n",
    "X = np.random.normal(0, 0.1, size=(1000,1000))\n",
    "\n",
    "# We print X\n",
    "print()\n",
    "print('X = \\n', X)\n",
    "print()\n",
    "\n",
    "# We print information about X\n",
    "print('X has dimensions:', X.shape)\n",
    "print('X is an object of type:', type(X))\n",
    "print('The elements in X are of type:', X.dtype)\n",
    "print('The elements in X have a mean of:', X.mean())\n",
    "print('The maximum value in X is:', X.max())\n",
    "print('The minimum value in X is:', X.min())\n",
    "print('X has', (X < 0).sum(), 'negative numbers')\n",
    "print('X has', (X > 0).sum(), 'positive numbers')"
   ]
  },
  {
   "cell_type": "code",
   "execution_count": 149,
   "metadata": {},
   "outputs": [
    {
     "name": "stdout",
     "output_type": "stream",
     "text": [
      "[[ 2  4  6  8]\n",
      " [10 12 14 16]\n",
      " [18 20 22 24]\n",
      " [26 28 30 32]]\n"
     ]
    }
   ],
   "source": [
    "sal = np.linspace(2,32,16, dtype=\"int64\").reshape(4,4)\n",
    "print(sal)"
   ]
  },
  {
   "cell_type": "code",
   "execution_count": 154,
   "metadata": {},
   "outputs": [
    {
     "data": {
      "text/plain": [
       "array([[  2,   4,   6,   8],\n",
       "       [ 10,  12,  14,  16],\n",
       "       [ 18,   1, 100,  24],\n",
       "       [ 26,  28,  30,  32]])"
      ]
     },
     "execution_count": 154,
     "metadata": {},
     "output_type": "execute_result"
    }
   ],
   "source": [
    "sal[2,-2] = 100\n",
    "sal[2,-3] = 1\n",
    "sal"
   ]
  },
  {
   "cell_type": "code",
   "execution_count": 155,
   "metadata": {},
   "outputs": [
    {
     "name": "stdout",
     "output_type": "stream",
     "text": [
      "[[1 2 3]\n",
      " [4 5 6]\n",
      " [7 8 9]]\n",
      "******\n",
      "[[7 8 9]]\n"
     ]
    }
   ],
   "source": [
    "y = np.arange(1,10).reshape(3,3)\n",
    "print(y)\n",
    "print('******')\n",
    "y = np.delete(y,[0,1],axis= 0)\n",
    "print(y)"
   ]
  },
  {
   "cell_type": "code",
   "execution_count": 209,
   "metadata": {},
   "outputs": [
    {
     "data": {
      "text/plain": [
       "array([[ 2],\n",
       "       [ 5],\n",
       "       [ 8],\n",
       "       [11],\n",
       "       [14],\n",
       "       [17]])"
      ]
     },
     "execution_count": 209,
     "metadata": {},
     "output_type": "execute_result"
    }
   ],
   "source": [
    "y = np.arange(1,19).reshape(6,3)\n",
    "y = np.delete(y, [0,2],axis=1)\n",
    "y"
   ]
  },
  {
   "cell_type": "code",
   "execution_count": 151,
   "metadata": {},
   "outputs": [
    {
     "data": {
      "text/plain": [
       "array([[ 1,  2,  3, 33],\n",
       "       [ 4,  5,  6, 34],\n",
       "       [ 7,  8,  9, 35],\n",
       "       [21, 22, 23, 36]])"
      ]
     },
     "execution_count": 151,
     "metadata": {},
     "output_type": "execute_result"
    }
   ],
   "source": [
    "a = np.arange(1,10).reshape(3,3)\n",
    "b = np.array([21,22,23]).reshape(1,3)\n",
    "c = np.array([33,34,35,36]).reshape(4,1)\n",
    "\n",
    "a = np.append(a, b, axis=0)\n",
    "np.append(a, c, axis=1)"
   ]
  },
  {
   "cell_type": "code",
   "execution_count": 228,
   "metadata": {},
   "outputs": [],
   "source": [
    "a = np.arange(1,17).reshape(4,4)\n",
    "b = [20,21,22,23]\n",
    "\n",
    "full = np.full((1,4),4)\n",
    "\n",
    "z = np.hstack((a,full.reshape(4,1)))"
   ]
  },
  {
   "cell_type": "code",
   "execution_count": 229,
   "metadata": {},
   "outputs": [
    {
     "name": "stdout",
     "output_type": "stream",
     "text": [
      "[[ 1  2  3  4  4]\n",
      " [ 5  6  7  8  4]\n",
      " [ 9 10 11 12  4]\n",
      " [13 14 15 16  4]]\n",
      "*******\n"
     ]
    }
   ],
   "source": [
    "print(z)\n",
    "print('*******')\n",
    "another = z[1:3, 1:2].copy()"
   ]
  },
  {
   "cell_type": "code",
   "execution_count": 263,
   "metadata": {},
   "outputs": [
    {
     "name": "stdout",
     "output_type": "stream",
     "text": [
      "[[ 1  2  3  4  4]\n",
      " [ 5  6  7  8  4]\n",
      " [ 9 10 11 12  4]\n",
      " [13 14 15 16  4]]\n",
      "*******\n"
     ]
    },
    {
     "data": {
      "text/plain": [
       "array([ 5, 10, 15])"
      ]
     },
     "execution_count": 263,
     "metadata": {},
     "output_type": "execute_result"
    }
   ],
   "source": [
    "print(z)\n",
    "print('*******')\n",
    "indecies = np.array([2,3])\n",
    "cols = np.array([2,4])\n",
    "np.diag(z, k=-1)"
   ]
  },
  {
   "cell_type": "code",
   "execution_count": 266,
   "metadata": {},
   "outputs": [
    {
     "data": {
      "text/plain": [
       "array([1, 2, 3, 4, 5])"
      ]
     },
     "execution_count": 266,
     "metadata": {},
     "output_type": "execute_result"
    }
   ],
   "source": [
    "a = np.array([1,2,3,4,4,3,2,5,1])\n",
    "np.unique(a)"
   ]
  },
  {
   "cell_type": "code",
   "execution_count": 227,
   "metadata": {},
   "outputs": [
    {
     "data": {
      "text/plain": [
       "array([[ 1,  2,  3,  4,  5,  9],\n",
       "       [ 6,  7,  8,  9, 10,  9],\n",
       "       [11, 12, 13, 14, 15,  9],\n",
       "       [16, 17, 18, 19, 20,  9]])"
      ]
     },
     "execution_count": 227,
     "metadata": {},
     "output_type": "execute_result"
    }
   ],
   "source": [
    "first_array = np.arange(1,21).reshape(4,5)\n",
    "\n",
    "extra = np.full((4,1),9)\n",
    "# print(extra)\n",
    "# print('********')\n",
    "# print(first_array)\n",
    "final_array = np.append(first_array, extra, axis = 1)\n",
    "final_array"
   ]
  },
  {
   "cell_type": "code",
   "execution_count": 268,
   "metadata": {},
   "outputs": [
    {
     "name": "stdout",
     "output_type": "stream",
     "text": [
      "[[ 1  2  3  4  5]\n",
      " [ 6  7  8  9 10]\n",
      " [11 12 13 14 15]\n",
      " [16 17 18 19 20]]\n",
      "********************\n",
      "[11 17]\n"
     ]
    }
   ],
   "source": [
    "arr = np.arange(1,21).reshape(4,5)\n",
    "print(arr)\n",
    "print(\"********************\")\n",
    "diag = np.diag(arr,k=-2)\n",
    "print(diag)"
   ]
  },
  {
   "cell_type": "code",
   "execution_count": 282,
   "metadata": {},
   "outputs": [
    {
     "name": "stdout",
     "output_type": "stream",
     "text": [
      "[[ 1  2  3  4  5]\n",
      " [ 6  7  8  9 10]\n",
      " [11 12 13 14 15]\n",
      " [16 17 18 19 20]]\n",
      "*******************\n",
      "[[12 13]\n",
      " [17 18]]\n",
      "*******************\n",
      "[['*' '*' '*' '*' '*']\n",
      " ['*' '*' '*' '*' '*']\n",
      " ['*' '*' '*' '*' '*']\n",
      " ['*' '*' '*' '*' '*']]\n"
     ]
    }
   ],
   "source": [
    "arr = np.arange(1,21).reshape(4,5)\n",
    "sl = arr[2: , 1:3]\n",
    "e = np.full((4,5),'*')\n",
    "\n",
    "print(arr)\n",
    "print(\"*******************\")\n",
    "print(sl)\n",
    "print(\"*******************\")\n",
    "print(e)"
   ]
  },
  {
   "cell_type": "code",
   "execution_count": 291,
   "metadata": {},
   "outputs": [
    {
     "name": "stdout",
     "output_type": "stream",
     "text": [
      "[[ 1  2  3  4  5]\n",
      " [ 6  7  8  9 10]\n",
      " [11 12 13 14 -1]\n",
      " [-1 -1 -1 -1 -1]\n",
      " [21 22 23 24 25]]\n",
      "**************\n",
      "-1\n"
     ]
    }
   ],
   "source": [
    "array = np.arange(1,26).reshape(5,5)\n",
    "array[(array >= 15) & (array <= 20)] = -1\n",
    "\n",
    "print(array)\n",
    "print(\"**************\")\n",
    "# print(ar)"
   ]
  },
  {
   "cell_type": "code",
   "execution_count": null,
   "metadata": {},
   "outputs": [],
   "source": []
  },
  {
   "cell_type": "code",
   "execution_count": null,
   "metadata": {},
   "outputs": [],
   "source": []
  },
  {
   "cell_type": "code",
   "execution_count": null,
   "metadata": {},
   "outputs": [],
   "source": []
  },
  {
   "cell_type": "code",
   "execution_count": null,
   "metadata": {},
   "outputs": [],
   "source": []
  },
  {
   "cell_type": "code",
   "execution_count": null,
   "metadata": {},
   "outputs": [],
   "source": []
  },
  {
   "cell_type": "code",
   "execution_count": null,
   "metadata": {},
   "outputs": [],
   "source": []
  }
 ],
 "metadata": {
  "kernelspec": {
   "display_name": "Python 3",
   "language": "python",
   "name": "python3"
  },
  "language_info": {
   "codemirror_mode": {
    "name": "ipython",
    "version": 3
   },
   "file_extension": ".py",
   "mimetype": "text/x-python",
   "name": "python",
   "nbconvert_exporter": "python",
   "pygments_lexer": "ipython3",
   "version": "3.6.9"
  }
 },
 "nbformat": 4,
 "nbformat_minor": 4
}
