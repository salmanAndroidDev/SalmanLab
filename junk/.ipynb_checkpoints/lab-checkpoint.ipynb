{
 "cells": [
  {
   "cell_type": "code",
   "execution_count": 1,
   "metadata": {},
   "outputs": [],
   "source": [
    "import time\n",
    "import numpy as np"
   ]
  },
  {
   "cell_type": "code",
   "execution_count": 2,
   "metadata": {},
   "outputs": [
    {
     "data": {
      "text/plain": [
       "(10, 50)"
      ]
     },
     "execution_count": 2,
     "metadata": {},
     "output_type": "execute_result"
    }
   ],
   "source": [
    "x = np.load('data.npy')\n",
    "x.shape"
   ]
  },
  {
   "cell_type": "code",
   "execution_count": 3,
   "metadata": {},
   "outputs": [
    {
     "name": "stdout",
     "output_type": "stream",
     "text": [
      "[['Salman' 'Vahab' 'Mohandes']\n",
      " ['Amer' 'Mahmadi' 'Naser']\n",
      " ['Abol' 'Moradi' 'eshagh']]\n"
     ]
    }
   ],
   "source": [
    "friends = np.load('friends.npy')\n",
    "print(friends)"
   ]
  },
  {
   "cell_type": "code",
   "execution_count": 4,
   "metadata": {},
   "outputs": [],
   "source": [
    "nums = np.ones((10,4), dtype='U5')"
   ]
  },
  {
   "cell_type": "code",
   "execution_count": 5,
   "metadata": {},
   "outputs": [
    {
     "data": {
      "text/plain": [
       "dtype('<U5')"
      ]
     },
     "execution_count": 5,
     "metadata": {},
     "output_type": "execute_result"
    }
   ],
   "source": [
    "nums.dtype"
   ]
  },
  {
   "cell_type": "code",
   "execution_count": 6,
   "metadata": {},
   "outputs": [],
   "source": [
    "outputs = np.full((3,10),.99)\n"
   ]
  },
  {
   "cell_type": "code",
   "execution_count": 20,
   "metadata": {},
   "outputs": [
    {
     "data": {
      "text/plain": [
       "(5, 5)"
      ]
     },
     "execution_count": 20,
     "metadata": {},
     "output_type": "execute_result"
    }
   ],
   "source": [
    "np.eye(5).shape"
   ]
  },
  {
   "cell_type": "code",
   "execution_count": 21,
   "metadata": {},
   "outputs": [
    {
     "data": {
      "text/plain": [
       "array([[1., 0., 0., 0., 0.],\n",
       "       [0., 1., 0., 0., 0.],\n",
       "       [0., 0., 1., 0., 0.],\n",
       "       [0., 0., 0., 1., 0.],\n",
       "       [0., 0., 0., 0., 1.]])"
      ]
     },
     "execution_count": 21,
     "metadata": {},
     "output_type": "execute_result"
    }
   ],
   "source": [
    "np.eye(5)"
   ]
  },
  {
   "cell_type": "code",
   "execution_count": 8,
   "metadata": {},
   "outputs": [
    {
     "data": {
      "text/plain": [
       "array([[ 10,   0,   0,   0,   0,   0,   0,   0,   0,   0],\n",
       "       [  0,  20,   0,   0,   0,   0,   0,   0,   0,   0],\n",
       "       [  0,   0,  30,   0,   0,   0,   0,   0,   0,   0],\n",
       "       [  0,   0,   0,  40,   0,   0,   0,   0,   0,   0],\n",
       "       [  0,   0,   0,   0,  50,   0,   0,   0,   0,   0],\n",
       "       [  0,   0,   0,   0,   0,  60,   0,   0,   0,   0],\n",
       "       [  0,   0,   0,   0,   0,   0,  70,   0,   0,   0],\n",
       "       [  0,   0,   0,   0,   0,   0,   0,  80,   0,   0],\n",
       "       [  0,   0,   0,   0,   0,   0,   0,   0,  90,   0],\n",
       "       [  0,   0,   0,   0,   0,   0,   0,   0,   0, 100]])"
      ]
     },
     "execution_count": 8,
     "metadata": {},
     "output_type": "execute_result"
    }
   ],
   "source": [
    "np.diag((10,20,30,40,50,60,70,80,90,100))"
   ]
  },
  {
   "cell_type": "code",
   "execution_count": 24,
   "metadata": {},
   "outputs": [
    {
     "data": {
      "text/plain": [
       "array([10, 11, 12, 13, 14, 15, 16, 17, 18, 19, 20, 21, 22, 23, 24, 25, 26,\n",
       "       27, 28, 29, 30])"
      ]
     },
     "execution_count": 24,
     "metadata": {},
     "output_type": "execute_result"
    }
   ],
   "source": [
    "np.arange(10,31,)"
   ]
  },
  {
   "cell_type": "code",
   "execution_count": 26,
   "metadata": {},
   "outputs": [
    {
     "data": {
      "text/plain": [
       "array([ 1. , 10.9, 20.8, 30.7, 40.6, 50.5, 60.4, 70.3, 80.2, 90.1])"
      ]
     },
     "execution_count": 26,
     "metadata": {},
     "output_type": "execute_result"
    }
   ],
   "source": [
    "np.linspace(1,100,10, endpoint= False)"
   ]
  },
  {
   "cell_type": "code",
   "execution_count": 29,
   "metadata": {},
   "outputs": [],
   "source": [
    "x = np.linspace(10,100,10) "
   ]
  },
  {
   "cell_type": "code",
   "execution_count": 41,
   "metadata": {},
   "outputs": [
    {
     "data": {
      "text/plain": [
       "(50,)"
      ]
     },
     "execution_count": 41,
     "metadata": {},
     "output_type": "execute_result"
    }
   ],
   "source": [
    "test = np.arange(50,100)\n",
    "test.shape"
   ]
  },
  {
   "cell_type": "code",
   "execution_count": 12,
   "metadata": {},
   "outputs": [
    {
     "data": {
      "text/plain": [
       "array([[ 10.,  20.,  30.,  40.,  50.],\n",
       "       [ 60.,  70.,  80.,  90., 100.]])"
      ]
     },
     "execution_count": 12,
     "metadata": {},
     "output_type": "execute_result"
    }
   ],
   "source": [
    "np.reshape(x, (2,5))"
   ]
  },
  {
   "cell_type": "code",
   "execution_count": null,
   "metadata": {},
   "outputs": [],
   "source": []
  },
  {
   "cell_type": "code",
   "execution_count": 13,
   "metadata": {},
   "outputs": [
    {
     "data": {
      "text/plain": [
       "array([[10.        , 11.66666667, 13.33333333],\n",
       "       [15.        , 16.66666667, 18.33333333]])"
      ]
     },
     "execution_count": 13,
     "metadata": {},
     "output_type": "execute_result"
    }
   ],
   "source": [
    "np.linspace(10,20,6, endpoint= False).reshape((2,3))"
   ]
  },
  {
   "cell_type": "code",
   "execution_count": 45,
   "metadata": {},
   "outputs": [
    {
     "data": {
      "text/plain": [
       "array([[4.65264351e-01, 8.47014620e-01, 2.02399746e-01, 4.15647370e-01,\n",
       "        8.69209588e-02],\n",
       "       [7.15639454e-01, 5.51028166e-02, 4.14121798e-01, 2.66586834e-01,\n",
       "        2.30895795e-01],\n",
       "       [4.44498376e-01, 4.98786461e-01, 6.69775940e-01, 2.60237504e-01,\n",
       "        4.41893998e-01],\n",
       "       [5.13336703e-02, 2.30718646e-01, 8.95966145e-01, 3.85617156e-01,\n",
       "        1.50796056e-04],\n",
       "       [3.34023381e-01, 6.79674772e-01, 9.42217266e-01, 1.40852157e-01,\n",
       "        3.00948665e-01]])"
      ]
     },
     "execution_count": 45,
     "metadata": {},
     "output_type": "execute_result"
    }
   ],
   "source": [
    "np.random.random((5,5))"
   ]
  },
  {
   "cell_type": "code",
   "execution_count": 47,
   "metadata": {},
   "outputs": [
    {
     "data": {
      "text/plain": [
       "array([[15, 11, 17, 18, 16],\n",
       "       [10, 12, 11, 18, 15],\n",
       "       [14, 11, 12, 19, 15],\n",
       "       [19, 10, 17, 14, 12],\n",
       "       [13, 17, 18, 12, 16],\n",
       "       [12, 15, 11, 11, 16],\n",
       "       [17, 17, 19, 18, 18],\n",
       "       [12, 15, 17, 18, 11],\n",
       "       [10, 14, 17, 11, 13],\n",
       "       [11, 12, 11, 19, 12]])"
      ]
     },
     "execution_count": 47,
     "metadata": {},
     "output_type": "execute_result"
    }
   ],
   "source": [
    "np.random.randint(10,20,(10,5))"
   ]
  },
  {
   "cell_type": "code",
   "execution_count": 56,
   "metadata": {},
   "outputs": [
    {
     "name": "stdout",
     "output_type": "stream",
     "text": [
      "[[ 6.40350001  4.75971775  3.55111807  1.31070981]\n",
      " [ 1.56829403  5.80979093  3.30901608  2.44818783]\n",
      " [ 4.23702036  4.28706426  7.5251696   7.07340596]\n",
      " [ 5.12843502 10.20413091 10.66615277  4.7125376 ]\n",
      " [ 9.4062145   9.76233474  6.98158378 -1.0299999 ]\n",
      " [10.1043605   6.01227834  8.43911126  4.86129605]\n",
      " [ 9.44496975  1.5318293   6.34865572  1.21623645]\n",
      " [ 6.62409236  6.58062566  5.41677915  5.3192224 ]\n",
      " [ 6.31612773  6.19687666  5.51277541  3.01871335]\n",
      " [ 8.27774858  5.04823509  6.01203556  4.73526324]]\n"
     ]
    }
   ],
   "source": [
    "x = np.random.normal(5,2.5, (10,4))\n",
    "print(x)"
   ]
  },
  {
   "cell_type": "code",
   "execution_count": null,
   "metadata": {},
   "outputs": [],
   "source": [
    "people = np.array(['one', 'two', 'three', 'one', 'two','one', 'two', 'three', 'one', 'two'])"
   ]
  },
  {
   "cell_type": "code",
   "execution_count": 17,
   "metadata": {},
   "outputs": [
    {
     "data": {
      "text/plain": [
       "1"
      ]
     },
     "execution_count": 17,
     "metadata": {},
     "output_type": "execute_result"
    }
   ],
   "source": [
    "(friends == 'Salman').sum()"
   ]
  },
  {
   "cell_type": "code",
   "execution_count": 18,
   "metadata": {},
   "outputs": [
    {
     "name": "stdout",
     "output_type": "stream",
     "text": [
      "\n",
      "X = \n",
      " [[-0.10902964  0.08787859  0.15825867 ... -0.09095689 -0.07739123\n",
      "   0.01468437]\n",
      " [ 0.14096138 -0.18739551  0.01103643 ...  0.01092925  0.00858952\n",
      "   0.00607117]\n",
      " [-0.01873488 -0.10830546  0.07571227 ...  0.17526519  0.25028892\n",
      "   0.12280241]\n",
      " ...\n",
      " [ 0.14299632 -0.00331506 -0.12611158 ...  0.04331982  0.19002399\n",
      "   0.03357859]\n",
      " [-0.05919081  0.07548518 -0.03854785 ...  0.01089445  0.06930284\n",
      "  -0.11065365]\n",
      " [ 0.06195731 -0.07062622  0.13775018 ... -0.03217177 -0.03001669\n",
      "   0.04692487]]\n",
      "\n",
      "X has dimensions: (1000, 1000)\n",
      "X is an object of type: <class 'numpy.ndarray'>\n",
      "The elements in X are of type: float64\n",
      "The elements in X have a mean of: 0.00011478295085056326\n",
      "The maximum value in X is: 0.5520318005777393\n",
      "The minimum value in X is: -0.4971462104283895\n",
      "X has 499330 negative numbers\n",
      "X has 500670 positive numbers\n"
     ]
    }
   ],
   "source": [
    "# We create a 1000 x 1000 ndarray of random floats drawn from normal (Gaussian) distribution\n",
    "# with a mean of zero and a standard deviation of 0.1.\n",
    "X = np.random.normal(0, 0.1, size=(1000,1000))\n",
    "\n",
    "# We print X\n",
    "print()\n",
    "print('X = \\n', X)\n",
    "print()\n",
    "\n",
    "# We print information about X\n",
    "print('X has dimensions:', X.shape)\n",
    "print('X is an object of type:', type(X))\n",
    "print('The elements in X are of type:', X.dtype)\n",
    "print('The elements in X have a mean of:', X.mean())\n",
    "print('The maximum value in X is:', X.max())\n",
    "print('The minimum value in X is:', X.min())\n",
    "print('X has', (X < 0).sum(), 'negative numbers')\n",
    "print('X has', (X > 0).sum(), 'positive numbers')"
   ]
  },
  {
   "cell_type": "code",
   "execution_count": 19,
   "metadata": {},
   "outputs": [
    {
     "data": {
      "text/plain": [
       "array([[ 2.,  4.,  6.,  8.],\n",
       "       [10., 12., 14., 16.],\n",
       "       [18., 20., 22., 24.],\n",
       "       [26., 28., 30., 32.]])"
      ]
     },
     "execution_count": 19,
     "metadata": {},
     "output_type": "execute_result"
    }
   ],
   "source": [
    "np.linspace(2,32,16).reshape(4,4)"
   ]
  }
 ],
 "metadata": {
  "kernelspec": {
   "display_name": "Python 3",
   "language": "python",
   "name": "python3"
  },
  "language_info": {
   "codemirror_mode": {
    "name": "ipython",
    "version": 3
   },
   "file_extension": ".py",
   "mimetype": "text/x-python",
   "name": "python",
   "nbconvert_exporter": "python",
   "pygments_lexer": "ipython3",
   "version": "3.6.9"
  }
 },
 "nbformat": 4,
 "nbformat_minor": 4
}
