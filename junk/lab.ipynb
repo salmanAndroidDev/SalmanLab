{
 "cells": [
  {
   "cell_type": "code",
   "execution_count": 1,
   "metadata": {},
   "outputs": [],
   "source": [
    "import time\n",
    "import numpy as np"
   ]
  },
  {
   "cell_type": "code",
   "execution_count": 2,
   "metadata": {},
   "outputs": [
    {
     "data": {
      "text/plain": [
       "(10, 50)"
      ]
     },
     "execution_count": 2,
     "metadata": {},
     "output_type": "execute_result"
    }
   ],
   "source": [
    "x = np.load('data.npy')\n",
    "x.shape"
   ]
  },
  {
   "cell_type": "code",
   "execution_count": 15,
   "metadata": {},
   "outputs": [
    {
     "name": "stdout",
     "output_type": "stream",
     "text": [
      "[['Salman' 'Vahab' 'Mohandes']\n",
      " ['Amer' 'Mahmadi' 'Naser']\n",
      " ['Abol' 'Moradi' 'eshagh']]\n"
     ]
    }
   ],
   "source": [
    "friends = np.load('friends.npy')\n",
    "print(friends)"
   ]
  },
  {
   "cell_type": "code",
   "execution_count": 30,
   "metadata": {},
   "outputs": [],
   "source": [
    "nums = np.ones((10,4), dtype='U5')"
   ]
  },
  {
   "cell_type": "code",
   "execution_count": 31,
   "metadata": {},
   "outputs": [
    {
     "data": {
      "text/plain": [
       "dtype('<U5')"
      ]
     },
     "execution_count": 31,
     "metadata": {},
     "output_type": "execute_result"
    }
   ],
   "source": [
    "nums.dtype"
   ]
  },
  {
   "cell_type": "code",
   "execution_count": 43,
   "metadata": {},
   "outputs": [],
   "source": [
    "outputs = np.full((3,10),.99)\n"
   ]
  },
  {
   "cell_type": "code",
   "execution_count": 45,
   "metadata": {},
   "outputs": [
    {
     "data": {
      "text/plain": [
       "(5, 5)"
      ]
     },
     "execution_count": 45,
     "metadata": {},
     "output_type": "execute_result"
    }
   ],
   "source": [
    "np.eye(5).shape"
   ]
  },
  {
   "cell_type": "code",
   "execution_count": 46,
   "metadata": {},
   "outputs": [
    {
     "data": {
      "text/plain": [
       "array([[ 10,   0,   0,   0,   0,   0,   0,   0,   0,   0],\n",
       "       [  0,  20,   0,   0,   0,   0,   0,   0,   0,   0],\n",
       "       [  0,   0,  30,   0,   0,   0,   0,   0,   0,   0],\n",
       "       [  0,   0,   0,  40,   0,   0,   0,   0,   0,   0],\n",
       "       [  0,   0,   0,   0,  50,   0,   0,   0,   0,   0],\n",
       "       [  0,   0,   0,   0,   0,  60,   0,   0,   0,   0],\n",
       "       [  0,   0,   0,   0,   0,   0,  70,   0,   0,   0],\n",
       "       [  0,   0,   0,   0,   0,   0,   0,  80,   0,   0],\n",
       "       [  0,   0,   0,   0,   0,   0,   0,   0,  90,   0],\n",
       "       [  0,   0,   0,   0,   0,   0,   0,   0,   0, 100]])"
      ]
     },
     "execution_count": 46,
     "metadata": {},
     "output_type": "execute_result"
    }
   ],
   "source": [
    "np.diag((10,20,30,40,50,60,70,80,90,100))"
   ]
  },
  {
   "cell_type": "code",
   "execution_count": 57,
   "metadata": {},
   "outputs": [
    {
     "data": {
      "text/plain": [
       "array([10, 11, 12, 13, 14, 15, 16, 17, 18, 19, 20, 21, 22, 23, 24])"
      ]
     },
     "execution_count": 57,
     "metadata": {},
     "output_type": "execute_result"
    }
   ],
   "source": [
    "np.arange(10,25,)"
   ]
  },
  {
   "cell_type": "code",
   "execution_count": 93,
   "metadata": {},
   "outputs": [
    {
     "data": {
      "text/plain": [
       "array([ 1. , 10.9, 20.8, 30.7, 40.6, 50.5, 60.4, 70.3, 80.2, 90.1])"
      ]
     },
     "execution_count": 93,
     "metadata": {},
     "output_type": "execute_result"
    }
   ],
   "source": [
    "np.linspace(1,100,10, endpoint= False)"
   ]
  },
  {
   "cell_type": "code",
   "execution_count": 96,
   "metadata": {},
   "outputs": [],
   "source": [
    "x = np.linspace(10,100,10)"
   ]
  },
  {
   "cell_type": "code",
   "execution_count": 100,
   "metadata": {},
   "outputs": [
    {
     "data": {
      "text/plain": [
       "array([[ 10.,  20.,  30.,  40.,  50.],\n",
       "       [ 60.,  70.,  80.,  90., 100.]])"
      ]
     },
     "execution_count": 100,
     "metadata": {},
     "output_type": "execute_result"
    }
   ],
   "source": [
    "np.reshape(x, (2,5))"
   ]
  },
  {
   "cell_type": "code",
   "execution_count": null,
   "metadata": {},
   "outputs": [],
   "source": []
  },
  {
   "cell_type": "code",
   "execution_count": 105,
   "metadata": {},
   "outputs": [
    {
     "data": {
      "text/plain": [
       "array([[10.        , 11.66666667, 13.33333333],\n",
       "       [15.        , 16.66666667, 18.33333333]])"
      ]
     },
     "execution_count": 105,
     "metadata": {},
     "output_type": "execute_result"
    }
   ],
   "source": [
    "np.linspace(10,20,6, endpoint= False).reshape((2,3))"
   ]
  },
  {
   "cell_type": "code",
   "execution_count": 112,
   "metadata": {},
   "outputs": [
    {
     "data": {
      "text/plain": [
       "array([[0.58114307, 0.15404375, 0.11593929, 0.38894673],\n",
       "       [0.97432878, 0.39938396, 0.25450859, 0.33981111],\n",
       "       [0.54803792, 0.45564565, 0.61879737, 0.07059034],\n",
       "       [0.02167092, 0.75540637, 0.47821551, 0.49158596],\n",
       "       [0.43282138, 0.96499866, 0.73989719, 0.58649734],\n",
       "       [0.76142475, 0.83475198, 0.46130789, 0.23975755],\n",
       "       [0.69897432, 0.10641749, 0.9199509 , 0.5652317 ],\n",
       "       [0.43148107, 0.85925029, 0.50132473, 0.36051547],\n",
       "       [0.22951859, 0.56035473, 0.00826099, 0.29817068],\n",
       "       [0.2581137 , 0.48184847, 0.85267147, 0.37639421]])"
      ]
     },
     "execution_count": 112,
     "metadata": {},
     "output_type": "execute_result"
    }
   ],
   "source": [
    "np.random.random((10,4))"
   ]
  },
  {
   "cell_type": "code",
   "execution_count": 113,
   "metadata": {},
   "outputs": [
    {
     "data": {
      "text/plain": [
       "array([[7, 8, 9, 9],\n",
       "       [6, 8, 9, 5],\n",
       "       [5, 8, 9, 7],\n",
       "       [5, 7, 9, 6],\n",
       "       [7, 5, 9, 6],\n",
       "       [5, 6, 8, 5],\n",
       "       [5, 6, 8, 9],\n",
       "       [8, 8, 9, 5],\n",
       "       [6, 9, 6, 6],\n",
       "       [7, 9, 6, 8]])"
      ]
     },
     "execution_count": 113,
     "metadata": {},
     "output_type": "execute_result"
    }
   ],
   "source": [
    "np.random.randint(5, 10, (10,4))"
   ]
  },
  {
   "cell_type": "code",
   "execution_count": 121,
   "metadata": {},
   "outputs": [],
   "source": [
    "x = np.random.normal(1,1.0, (10,4))"
   ]
  },
  {
   "cell_type": "code",
   "execution_count": 138,
   "metadata": {},
   "outputs": [
    {
     "data": {
      "text/plain": [
       "1"
      ]
     },
     "execution_count": 138,
     "metadata": {},
     "output_type": "execute_result"
    }
   ],
   "source": [
    "(friends == 'Salman').sum()"
   ]
  },
  {
   "cell_type": "code",
   "execution_count": 128,
   "metadata": {},
   "outputs": [
    {
     "name": "stdout",
     "output_type": "stream",
     "text": [
      "\n",
      "X = \n",
      " [[ 0.03180926 -0.00288844 -0.12344024 ...  0.15802063 -0.0005713\n",
      "  -0.05580935]\n",
      " [ 0.17578764 -0.09965302  0.1301861  ...  0.09646884 -0.05418697\n",
      "   0.04731219]\n",
      " [ 0.09596869 -0.19797916 -0.03532804 ... -0.03646642  0.03975948\n",
      "   0.20432181]\n",
      " ...\n",
      " [-0.02129329 -0.0671486  -0.03518458 ...  0.16281682  0.21021076\n",
      "  -0.06047743]\n",
      " [-0.01081538 -0.18399873 -0.06277455 ... -0.03161296 -0.19330615\n",
      "   0.14345062]\n",
      " [ 0.06720931 -0.05572048 -0.18491306 ...  0.09872919  0.05348298\n",
      "   0.22296806]]\n",
      "\n",
      "X has dimensions: (1000, 1000)\n",
      "X is an object of type: <class 'numpy.ndarray'>\n",
      "The elements in X are of type: float64\n",
      "The elements in X have a mean of: 0.00012271033356755552\n",
      "The maximum value in X is: 0.4851071462859275\n",
      "The minimum value in X is: -0.44924760074339765\n",
      "X has 499484 negative numbers\n",
      "X has 500516 positive numbers\n"
     ]
    }
   ],
   "source": [
    "# We create a 1000 x 1000 ndarray of random floats drawn from normal (Gaussian) distribution\n",
    "# with a mean of zero and a standard deviation of 0.1.\n",
    "X = np.random.normal(0, 0.1, size=(1000,1000))\n",
    "\n",
    "# We print X\n",
    "print()\n",
    "print('X = \\n', X)\n",
    "print()\n",
    "\n",
    "# We print information about X\n",
    "print('X has dimensions:', X.shape)\n",
    "print('X is an object of type:', type(X))\n",
    "print('The elements in X are of type:', X.dtype)\n",
    "print('The elements in X have a mean of:', X.mean())\n",
    "print('The maximum value in X is:', X.max())\n",
    "print('The minimum value in X is:', X.min())\n",
    "print('X has', (X < 0).sum(), 'negative numbers')\n",
    "print('X has', (X > 0).sum(), 'positive numbers')"
   ]
  },
  {
   "cell_type": "code",
   "execution_count": 148,
   "metadata": {},
   "outputs": [
    {
     "data": {
      "text/plain": [
       "array([[ 2.,  4.,  6.,  8.],\n",
       "       [10., 12., 14., 16.],\n",
       "       [18., 20., 22., 24.],\n",
       "       [26., 28., 30., 32.]])"
      ]
     },
     "execution_count": 148,
     "metadata": {},
     "output_type": "execute_result"
    }
   ],
   "source": [
    "np.linspace(2,32,16).reshape(4,4)"
   ]
  }
 ],
 "metadata": {
  "kernelspec": {
   "display_name": "Python 3",
   "language": "python",
   "name": "python3"
  },
  "language_info": {
   "codemirror_mode": {
    "name": "ipython",
    "version": 3
   },
   "file_extension": ".py",
   "mimetype": "text/x-python",
   "name": "python",
   "nbconvert_exporter": "python",
   "pygments_lexer": "ipython3",
   "version": "3.6.9"
  }
 },
 "nbformat": 4,
 "nbformat_minor": 4
}
