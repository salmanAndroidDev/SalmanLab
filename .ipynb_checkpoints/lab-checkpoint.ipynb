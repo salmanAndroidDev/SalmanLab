{
 "cells": [
  {
   "cell_type": "markdown",
   "metadata": {},
   "source": [
    "<h1>Jupyter Notebook</h1>\n",
    "<p> a good representation of jupyter notebook, and what you'll get</p>\n",
    "<ul>\n",
    "    <li>You can learn it deeply</li>\n",
    "    <li>You can learn how use it in machine learning</li>\n",
    "    <li>you'll gain intuitive understanding of it</li>\n",
    "    <li>you'll gain lots of experties by solving it's practices</li>\n",
    "</ul>"
   ]
  },
  {
   "cell_type": "code",
   "execution_count": 11,
   "metadata": {},
   "outputs": [
    {
     "name": "stdout",
     "output_type": "stream",
     "text": [
      "You are the best\n"
     ]
    }
   ],
   "source": [
    "print(\"You are the best\")"
   ]
  }
 ],
 "metadata": {
  "kernelspec": {
   "display_name": "Python 3",
   "language": "python",
   "name": "python3"
  },
  "language_info": {
   "codemirror_mode": {
    "name": "ipython",
    "version": 3
   },
   "file_extension": ".py",
   "mimetype": "text/x-python",
   "name": "python",
   "nbconvert_exporter": "python",
   "pygments_lexer": "ipython3",
   "version": "3.6.9"
  }
 },
 "nbformat": 4,
 "nbformat_minor": 4
}
